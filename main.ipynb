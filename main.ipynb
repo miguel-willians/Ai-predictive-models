!pip install pandas numpy scikit-learn

import pandas as pd
from sklearn.preprocessing import LabelEncoder
from sklearn.model_selection import train_test_split
from sklearn.ensemble import RandomForestClassifier
from sklearn.neighbors import KNeighborsClassifier
from sklearn.metrics import accuracy_score

table = pd.read_csv("clientes.csv")

encoder = LabelEncoder()

table["profissao"] = encoder.fit_transform(table["profissao"])
table["mix_credito"] = encoder.fit_transform(table["mix_credito"])
table["comportamento_pagamento"] = encoder.fit_transform(table["comportamento_pagamento"])

y = table["score_credito"]
x = table.drop(columns=["id_cliente", "score_credito"])

x_train, x_prediction, y_train, y_prediction = train_test_split(x,y)

decision_model = RandomForestClassifier()
knn_model = KNeighborsClassifier()

decision_model.fit(x_train, y_train)
knn_model.fit(x_train, y_train)

decision_prediction = decision_model.predict(x_prediction)
knn_prediction = knn_model.predict(x_prediction)

print("Random Forest accuracy score:")
display(accuracy_score(y_prediction, decision_prediction))
print("KNN accuracy score:")
display(accuracy_score(y_prediction, knn_prediction))

new_customers = pd.read_csv("novos_clientes.csv")

new_customers["profissao"] = encoder.fit_transform(new_customers["profissao"])
new_customers["mix_credito"] = encoder.fit_transform(new_customers["mix_credito"])
new_customers["comportamento_pagamento"] = encoder.fit_transform(new_customers["comportamento_pagamento"])

prediction = decision_model.predict(new_customers)
print("Score of the new customers according to the Random Forest:")
for score in prediction:
    display(score)
