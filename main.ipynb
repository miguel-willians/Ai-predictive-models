{
 "cells": [
  {
   "cell_type": "code",
   "execution_count": 3,
   "metadata": {},
   "outputs": [
    {
     "name": "stdout",
     "output_type": "stream",
     "text": [
      "Random Forest accuracy score:\n"
     ]
    },
    {
     "data": {
      "text/plain": [
       "0.8276"
      ]
     },
     "metadata": {},
     "output_type": "display_data"
    },
    {
     "name": "stdout",
     "output_type": "stream",
     "text": [
      "KNN accuracy score:\n"
     ]
    },
    {
     "data": {
      "text/plain": [
       "0.74296"
      ]
     },
     "metadata": {},
     "output_type": "display_data"
    },
    {
     "name": "stdout",
     "output_type": "stream",
     "text": [
      "Score of the new customers according to the Random Forest:\n"
     ]
    },
    {
     "data": {
      "text/plain": [
       "'Poor'"
      ]
     },
     "metadata": {},
     "output_type": "display_data"
    },
    {
     "data": {
      "text/plain": [
       "'Standard'"
      ]
     },
     "metadata": {},
     "output_type": "display_data"
    },
    {
     "data": {
      "text/plain": [
       "'Good'"
      ]
     },
     "metadata": {},
     "output_type": "display_data"
    }
   ],
   "source": [
    "#!pip install pandas numpy scikit-learn\n",
    "\n",
    "import pandas as pd\n",
    "from sklearn.preprocessing import LabelEncoder\n",
    "from sklearn.model_selection import train_test_split\n",
    "from sklearn.ensemble import RandomForestClassifier\n",
    "from sklearn.neighbors import KNeighborsClassifier\n",
    "from sklearn.metrics import accuracy_score\n",
    "\n",
    "table = pd.read_csv(\"clientes.csv\")\n",
    "\n",
    "encoder = LabelEncoder()\n",
    "\n",
    "table[\"profissao\"] = encoder.fit_transform(table[\"profissao\"])\n",
    "table[\"mix_credito\"] = encoder.fit_transform(table[\"mix_credito\"])\n",
    "table[\"comportamento_pagamento\"] = encoder.fit_transform(table[\"comportamento_pagamento\"])\n",
    "\n",
    "y = table[\"score_credito\"]\n",
    "x = table.drop(columns=[\"id_cliente\", \"score_credito\"])\n",
    "\n",
    "x_train, x_prediction, y_train, y_prediction = train_test_split(x,y)\n",
    "\n",
    "decision_model = RandomForestClassifier()\n",
    "knn_model = KNeighborsClassifier()\n",
    "\n",
    "decision_model.fit(x_train, y_train)\n",
    "knn_model.fit(x_train, y_train)\n",
    "\n",
    "decision_prediction = decision_model.predict(x_prediction)\n",
    "knn_prediction = knn_model.predict(x_prediction)\n",
    "\n",
    "print(\"Random Forest accuracy score:\")\n",
    "display(accuracy_score(y_prediction, decision_prediction))\n",
    "print(\"KNN accuracy score:\")\n",
    "display(accuracy_score(y_prediction, knn_prediction))\n",
    "\n",
    "new_customers = pd.read_csv(\"novos_clientes.csv\")\n",
    "\n",
    "new_customers[\"profissao\"] = encoder.fit_transform(new_customers[\"profissao\"])\n",
    "new_customers[\"mix_credito\"] = encoder.fit_transform(new_customers[\"mix_credito\"])\n",
    "new_customers[\"comportamento_pagamento\"] = encoder.fit_transform(new_customers[\"comportamento_pagamento\"])\n",
    "\n",
    "prediction = decision_model.predict(new_customers)\n",
    "print(\"Score of the new customers according to the Random Forest:\")\n",
    "for score in prediction:\n",
    "    display(score)\n"
   ]
  }
 ],
 "metadata": {
  "kernelspec": {
   "display_name": "Python 3",
   "language": "python",
   "name": "python3"
  },
  "language_info": {
   "codemirror_mode": {
    "name": "ipython",
    "version": 3
   },
   "file_extension": ".py",
   "mimetype": "text/x-python",
   "name": "python",
   "nbconvert_exporter": "python",
   "pygments_lexer": "ipython3",
   "version": "3.12.3"
  }
 },
 "nbformat": 4,
 "nbformat_minor": 2
}
